{
 "cells": [
  {
   "cell_type": "markdown",
   "metadata": {},
   "source": [
    "***\n",
    "## CQ(Classical Quantum) State\n",
    "\n",
    "From this link: https://ocw.tudelft.nl/course-lectures/1-5-2-example-classical-quantum-states/?course_id=22166\n",
    "\n",
    "If we have four basis, $\\lvert0\\rangle, \\lvert1\\rangle, \\lvert+\\rangle, \\lvert-\\rangle$ and then for encoding 0, randomly choose the $\\lvert0\\rangle$ or $\\lvert+\\rangle$ basis and for encoding 1, we choose the other two, then two density matrices turns out to be:\n",
    "\n",
    "$$\n",
    "\\rho^A_0 = \\frac{1}{2}\\lvert0\\rangle\\langle0\\lvert + \\frac{1}{2}\\lvert+\\rangle\\langle+\\lvert \\\\\n",
    "\\rho^A_1 = \\frac{1}{2}\\lvert1\\rangle\\langle1\\lvert + \\frac{1}{2}\\lvert-\\rangle\\langle-\\lvert\n",
    "$$\n",
    "Now, if we randomize the choice of our encoding bit, meaning, with probability half we would choose 0 and similarly would choose 1, then the total density matrix would be called as classical quantum state. Because the final density matrix would hold information for the classical choice of bits along with the quantum density matrices.\n",
    "\n",
    "$$\n",
    "\\rho^{XA} = \\frac{1}{2}\\lvert0\\rangle\\langle0\\lvert^X \\otimes{\\rho^A_0} + \\frac{1}{2}\\lvert1\\rangle\\langle1\\lvert^X\\otimes{\\rho^A_1}\n",
    "$$\n",
    "\n",
    "***"
   ]
  },
  {
   "cell_type": "markdown",
   "metadata": {},
   "source": [
    "## Partial Trace  \n",
    "\n",
    "Partial trace is an important concept in QI. In a mixed state, it measures what remains after one of the components is traced out. \n",
    "For example: let a density matrix be: $\\rho^{AB} = \\lvert0\\rangle \\langle 0 \\lvert + \\lvert1\\rangle \\langle 1 \\lvert $. Let's calculate the result of tracing out B while keeping A intact.   \n",
    "\n",
    "$$\n",
    "\\begin{align}\n",
    "\\rho^A &= tr_B(\\rho^{AB})  \\\\\n",
    "&= \\sum_{i=1}^{k} I^A\\otimes\\langle \\phi_i^B  \\lvert \\rho^{AB} \\lvert I^A\\otimes \\lvert \\phi_i^B \\rangle \\\\\n",
    "&= I^A\\otimes\\langle 0  \\lvert \\rho^{AB} \\lvert I^A\\otimes \\lvert 0 \\rangle  + I^A\\otimes\\langle 1  \\lvert \\rho^{AB} \\lvert I^A\\otimes \\lvert 1 \\rangle \\\\\n",
    "&= \\begin{bmatrix} 1 & 0 \\\\ 0 & 1 \\end{bmatrix} \\otimes \\begin{bmatrix} 1 & 0 \\end{bmatrix} \\Bigg \\lvert \n",
    "\\begin{bmatrix} 0 & 0  & 0 & 0 \\\\ 0 & 1  & 0 & 0 \\\\ 0 & 0  & 0 & 0 \\\\ 0 & 0  & 0 & 0 \\end{bmatrix} \\Bigg \\lvert  \\begin{bmatrix} 1 & 0 \\\\ 0 & 1 \\end{bmatrix} \\otimes \\begin{bmatrix} 1 \\\\ 0 \\end{bmatrix} +  \\begin{bmatrix} 1 & 0 \\\\ 0 & 1 \\end{bmatrix} \\otimes \\begin{bmatrix} 0 & 1 \\end{bmatrix} \\Bigg \\lvert \n",
    "\\begin{bmatrix} 0 & 0  & 0 & 0 \\\\ 0 & 1  & 0 & 0 \\\\ 0 & 0  & 0 & 0 \\\\ 0 & 0  & 0 & 0 \\end{bmatrix} \\Bigg \\lvert  \\begin{bmatrix} 1 & 0 \\\\ 0 & 1 \\end{bmatrix} \\otimes \\begin{bmatrix} 0 \\\\ 1 \\end{bmatrix} \\\\ \n",
    "&= \\begin{bmatrix} 0 & 0 \\\\ 0 & 0 \\end{bmatrix}  + \\begin{bmatrix} 1 & 0 \\\\ 0 & 0 \\end{bmatrix} \\\\\n",
    "&= \\begin{bmatrix} 1 & 0 \\\\ 0 & 0 \\end{bmatrix}  \\\\\n",
    "&= \\lvert 0 \\rangle \\langle 0 \\lvert\n",
    "\\end{align} \n",
    "$$\n",
    "\n",
    "As we can see, tracing out the second part has given us the first density matrix. "
   ]
  },
  {
   "cell_type": "markdown",
   "metadata": {},
   "source": [
    "## Partial Trace of an Entangled State\n",
    "\n",
    "We would see why tracing out a component from an entagled density matrix does not give us a pure density matrix, rather a maximally entangled one. Let us consider the following Bell state. \n",
    "\n",
    "$$\n",
    "\\newcommand{\\ket}[1]{\\lvert {#1} \\rangle}\n",
    "\\newcommand{\\bra}[1]{\\langle {#1} \\lvert}\n",
    "\\ket{ \\phi^+_{AB}} = \\frac{1}{\\sqrt{2}} (\\ket{00} + \\ket{11})\n",
    "$$\n",
    "Now the density matrix for this state would be: \n",
    "\n",
    "$$\n",
    "\\ket{ \\phi^+_{AB}}\\bra{ \\phi^+_{AB}} = \\frac{1}{2} (\\ket{00} + \\ket{11})(\\bra{00} + \\bra{11}) = \\frac{1}{2}(\\ket{00}\\bra{00} + \\ket{01}\\bra{01} + \\ket{10}\\bra{10} + \\ket{11}\\bra{11})\n",
    "$$\n",
    "Let us trace out B, keeping A intact to see what remains from this entangled state:\n",
    "$$\n",
    "\\begin{align}\n",
    "Tr_B(\\ket{ \\phi^+_{AB}}\\bra{ \\phi^+_{AB}}) &= \\sum_{i=1}^k I^A \\otimes \\langle\\phi_i^B \\ket{ \\phi^+_{AB}}\\bra{ \\phi^+_{AB}}I^A \\otimes \\ket{\\phi_i^B} \\\\\n",
    "&= \\frac{1}{2} ( I^A \\otimes\\bra{0^B}  \\phi^+_{AB}\\rangle \\langle\\phi^+_{AB}\\lvert  I^A \\otimes \\lvert0^B\\rangle + I^A \\otimes\\bra{1^B}  \\phi^+_{AB}\\rangle \\langle\\phi^+_{AB}\\lvert  I^A \\otimes \\lvert1^B\\rangle) \\\\\n",
    "&= \\frac{1}{2}\\Bigg (\\begin{bmatrix} 1 & 0 & 0 & 0 \\\\ 0 & 0 & 1 & 0 \\end{bmatrix} \\begin{bmatrix} 1 & 0 & 0 & 1 \\\\ 0 & 0 & 0 & 0 \\\\0 & 0 & 0 & 0  \\\\ 1 & 0 & 0 & 1 \\end{bmatrix} \\begin{bmatrix}1 & 0 \\\\ 0 & 0 \\\\ 0 & 1 \\\\ 0 & 0\\end{bmatrix} + \\begin{bmatrix} 0 & 1 & 0 & 0 \\\\ 0 & 0 & 0 & 1 \\end{bmatrix} \\begin{bmatrix} 1 & 0 & 0 & 1 \\\\ 0 & 0 & 0 & 0 \\\\0 & 0 & 0 & 0  \\\\ 1 & 0 & 0 & 1 \\end{bmatrix} \\begin{bmatrix} 0 & 0 \\\\ 1 & 0 \\\\ 0 & 0 \\\\ 0 & 1\\end{bmatrix}\\Bigg) \\\\\n",
    "&=\\frac{1}{2} (\\begin{bmatrix} 1 & 0 \\\\ 0 & 0 \\end{bmatrix} + \\begin{bmatrix}  0 & 0 \\\\ 0 & 1\\end{bmatrix}) \\\\\n",
    "&=\\frac{1}{2} (\\begin{bmatrix} 1 & 0 \\\\ 0 & 1 \\end{bmatrix}) \\\\\n",
    "&= \\frac{1}{2} * I_2\n",
    "\\end{align}\n",
    "$$\n",
    "Which is a maximally mixed state. So we can't determine the remaining state after tracing out one of it's component. "
   ]
  }
 ],
 "metadata": {
  "kernelspec": {
   "display_name": "Python 3",
   "language": "python",
   "name": "python3"
  },
  "language_info": {
   "codemirror_mode": {
    "name": "ipython",
    "version": 3
   },
   "file_extension": ".py",
   "mimetype": "text/x-python",
   "name": "python",
   "nbconvert_exporter": "python",
   "pygments_lexer": "ipython3",
   "version": "3.5.2"
  }
 },
 "nbformat": 4,
 "nbformat_minor": 2
}
