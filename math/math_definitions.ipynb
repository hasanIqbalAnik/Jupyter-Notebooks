{
 "cells": [
  {
   "cell_type": "markdown",
   "metadata": {},
   "source": [
    "# Math definitions\n"
   ]
  },
  {
   "cell_type": "markdown",
   "metadata": {},
   "source": [
    "__Disclaimer:__ Most of these definitions have been taken from wikipedia. I don't know how to cite in jupyter yet. \n",
    "***\n",
    "**1. Manifold:**  \n",
    "A manifold is a topological space, which is locally Euclidean. For example, earth is actually a sphere, but it looks flat at every point. All possible positions of a robotic arm could also be described with a manifold.  \n",
    "***\n",
    "**2. Bilinear Map:**  \n",
    "Bilinear map is a function that combines elements of two vector spaces into an element of a third vector space and is linear in each of it's arguments. If B is some operation that has these linear properties:  \n",
    "1. B(x + y, z) = B(x, z) + B(y, z)  \n",
    "2. B(x, y + z) = B(x, y) + B(x, z)  \n",
    "3. B(cx, y) = cB(x, y)  \n",
    "Then, B would be a bilinear map. The multiplication operation could be an example of a bilinear map.\n",
    "***\n",
    "**3.Matrix Exponential:**  \n",
    "It's defined as $$e^X = \\sum_{k=0}^ {\\infty}\\frac{1}{k!}X^k$$\n",
    "The $X^0$ is the identity matrix. \n",
    "\n",
    "For example: if $A = \\begin{bmatrix} 3 & 7 \\\\ 2 & 5 \\end{bmatrix}$, then \n",
    "$$\n",
    "e^A = 1 \\begin{bmatrix} 3 & 7 \\\\ 2 & 5 \\end{bmatrix}^{0} + 1 \\begin{bmatrix} 3 & 7 \\\\ 2 & 5 \\end{bmatrix}^{1} + \\frac{1}{2} \\begin{bmatrix} 3 & 7 \\\\ 2 & 5 \\end{bmatrix}^{2} + \\frac{1}{6} \\begin{bmatrix} 3 & 7 \\\\ 2 & 5 \\end{bmatrix}^{3} + .....\n",
    "$$\n",
    "Let's see what the value becomes:\n",
    "***\n",
    "\n",
    "\n"
   ]
  },
  {
   "cell_type": "code",
   "execution_count": 25,
   "metadata": {},
   "outputs": [
    {
     "name": "stdout",
     "output_type": "stream",
     "text": [
      "A is: \n",
      " [[3. 7.]\n",
      " [2. 5.]]\n",
      "exp(A) is: \n",
      " [[ 974.47155635 2371.52535254]\n",
      " [ 677.57867215 1652.0502285 ]]\n"
     ]
    }
   ],
   "source": [
    "import math\n",
    "import numpy as np\n",
    "A = numpy.matrix([[3.0, 7.0], [2.0, 5.0]])\n",
    "S = numpy.matrix([[0.0, 0.0], [0.0, 0.0]])\n",
    "print('A is: \\n', A)\n",
    "for i in range(0, 30):\n",
    "    S += (1 / math.factorial(i)) * np.linalg.matrix_power(A, i) \n",
    "print('exp(A) is: \\n', S)    \n",
    "    "
   ]
  },
  {
   "cell_type": "markdown",
   "metadata": {},
   "source": [
    "***\n",
    "**4.Matrix Logarithm:**    \n",
    "It's the reverse operation of the matrix exponentiation. Defined as: \n",
    "$$log(B) = \\sum_{k=1}^{\\infty}(-1)^{k+1}\\frac{(B-I)^k}{k}$$\n",
    "Wiki says that we can calculate the log in this way if $\\|B - I \\| < 1$. Now, if a density matrix is: \n",
    "$$\n",
    "M = \\begin{bmatrix} \\frac{3}{8} & \\frac{3}{8} \\\\ \\frac{3}{8} & \\frac{5}{8} \\end{bmatrix}\n",
    "$$\n",
    "Then it's log would be:"
   ]
  },
  {
   "cell_type": "code",
   "execution_count": 35,
   "metadata": {},
   "outputs": [
    {
     "name": "stdout",
     "output_type": "stream",
     "text": [
      "[[-1.52242413  1.01757553]\n",
      " [ 1.01757553 -0.84404045]]\n"
     ]
    }
   ],
   "source": [
    "m = np.matrix([[3/8, 3/8], [3/8, 5/8]])\n",
    "idt = np.matrix([[1, 0], [0, 1]])\n",
    "log_m = numpy.matrix([[0.0, 0.0], [0.0, 0.0]])\n",
    "for i in range(1, 50):\n",
    "    log_m += ((-1)**(i+1)) * (((m - idt)**i )/i)\n",
    "print(log_m)"
   ]
  },
  {
   "cell_type": "code",
   "execution_count": 44,
   "metadata": {},
   "outputs": [
    {
     "name": "stdout",
     "output_type": "stream",
     "text": [
      "von neumann entropy is:  0.48366738206361204\n"
     ]
    }
   ],
   "source": [
    "import scipy as sc\n",
    "import scipy.linalg as scli\n",
    "print('von neumann entropy is: ', -np.trace((m * log_m) / np.log(2)))\n"
   ]
  }
 ],
 "metadata": {
  "kernelspec": {
   "display_name": "Python 3",
   "language": "python",
   "name": "python3"
  },
  "language_info": {
   "codemirror_mode": {
    "name": "ipython",
    "version": 3
   },
   "file_extension": ".py",
   "mimetype": "text/x-python",
   "name": "python",
   "nbconvert_exporter": "python",
   "pygments_lexer": "ipython3",
   "version": "3.5.2"
  }
 },
 "nbformat": 4,
 "nbformat_minor": 2
}
