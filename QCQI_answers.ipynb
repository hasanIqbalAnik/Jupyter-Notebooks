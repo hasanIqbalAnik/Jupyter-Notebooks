{
 "cells": [
  {
   "cell_type": "markdown",
   "metadata": {},
   "source": [
    "# Answers to exercises QCQI (Nielsen, Chuang)"
   ]
  },
  {
   "cell_type": "markdown",
   "metadata": {},
   "source": [
    "**Exercise 1.1:**  \n",
    "\n",
    "Probably BPP. According to https://complexityzoo.uwaterloo.ca/Complexity_Zoo, BPP is:\n",
    ">The class of decision problems solvable in polynomial time by a quantum Turing machine, with at most 1/3 probability of error. "
   ]
  },
  {
   "cell_type": "markdown",
   "metadata": {},
   "source": [
    "**Exercise 1.2:**  \n",
    "\n",
    "The problem of distinguishing two quantum states comes down to successfully identifying the probability amplitudes exactly of a single quantum state. With this in mind:  \n",
    "\n",
    "Let us consider the first scenario where we have a device which could be used to distinguish non-orthogonal quantum states. This implies that given an arbitrary quantum state $a\\vert0\n",
    "\\rangle + b\\vert1\\rangle$, it will be able to identify amplitude **a** and **b** both, without destroying the system upon a single measurement. Then, we can prepare states based on the amplitudes a and b as many times as we like. This is a clear violation of quantum no-cloing theorem.   \n",
    "\n",
    "In the second scenario, let's say we have a quantum cloning machine. Then using this device, we will create a clone of an arbitrary state $a\\vert0\\rangle + b\\vert1\\rangle$ and then measure it in both $a\\vert0\\rangle$ and $b\\vert1\\rangle$ basis to measure their respective amplitudes. \n"
   ]
  },
  {
   "cell_type": "markdown",
   "metadata": {},
   "source": [
    "**Exercise 2.1**  \n",
    "The vectors are linearly dependent because: \n",
    "$$\n",
    "\\begin{bmatrix}2 \\\\ 1\\end{bmatrix} -  \\begin{bmatrix}1 \\\\ 2\\end{bmatrix} = \\begin{bmatrix}1 \\\\ -1\\end{bmatrix}\n",
    "$$"
   ]
  },
  {
   "cell_type": "markdown",
   "metadata": {},
   "source": [
    "**Exercise 2.2**  \n",
    "The matrix representation would be: $$ \\newcommand{\\ket}[1]{\\left|{#1}\\right\\rangle} \\newcommand{\\bra}[1]{\\left\\langle{#1}right|}\n",
    "A = \\begin{bmatrix}0 & 1\\\\1 & 0\\end{bmatrix}$$  \n",
    "This is for the bases $\\ket{0}$ and $\\ket{1}$  \n",
    "If we use Hadamard Gate where, $$H = \\frac{1}{2}\\begin{bmatrix} 1 & 1 \\\\ 1 & -1 \\end{bmatrix} $$\n",
    "then it would act on the basis $\\ket{+} = \\frac{\\ket{0} + \\ket{1}}{\\sqrt{2}}$ and $\\ket{-}=\\frac{\\ket{0} - \\ket{1}}{\\sqrt{2}}$\n"
   ]
  },
  {
   "cell_type": "markdown",
   "metadata": {},
   "source": [
    "2.2, 2.3, 2.4-no idea"
   ]
  }
 ],
 "metadata": {
  "kernelspec": {
   "display_name": "Python 3",
   "language": "python",
   "name": "python3"
  },
  "language_info": {
   "codemirror_mode": {
    "name": "ipython",
    "version": 3
   },
   "file_extension": ".py",
   "mimetype": "text/x-python",
   "name": "python",
   "nbconvert_exporter": "python",
   "pygments_lexer": "ipython3",
   "version": "3.5.2"
  }
 },
 "nbformat": 4,
 "nbformat_minor": 2
}
