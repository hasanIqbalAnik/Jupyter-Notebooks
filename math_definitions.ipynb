{
 "cells": [
  {
   "cell_type": "markdown",
   "metadata": {},
   "source": [
    "# Math definitions\n"
   ]
  },
  {
   "cell_type": "markdown",
   "metadata": {},
   "source": [
    "__Disclaimer:__ Most of these definitions have been taken from wikipedia. I don't know how to cite in jupyter yet. \n",
    "***\n",
    "**1. Manifold:**  \n",
    "A manifold is a topological space, which is locally Euclidean. For example, earth is actually a sphere, but it looks flat at every point. All possible positions of a robotic arm could also be described with a manifold.  \n",
    "***\n",
    "**2. Bilinear Map:**  \n",
    "Bilinear map is a function that combines elements of two vector spaces into an element of a third vector space and is linear in each of it's arguments. If B is some operation that has these linear properties:  \n",
    "1. B(x + y, z) = B(x, z) + B(y, z)  \n",
    "2. B(x, y + z) = B(x, y) + B(x, z)  \n",
    "3. B(cx, y) = cB(x, y)  \n",
    "Then, B would be a bilinear map. The multiplication operation could be an example of a bilinear map.\n",
    "***\n",
    "**3.Matrix Exponential:**  \n",
    "It's defined as $$e^X = \\sum_{k=0}^ {\\infty}\\frac{1}{k!}X^k$$\n",
    "The $X^0$ is the identity matrix. \n",
    "***\n",
    "\n",
    "\n"
   ]
  }
 ],
 "metadata": {
  "kernelspec": {
   "display_name": "Python 3",
   "language": "python",
   "name": "python3"
  },
  "language_info": {
   "codemirror_mode": {
    "name": "ipython",
    "version": 3
   },
   "file_extension": ".py",
   "mimetype": "text/x-python",
   "name": "python",
   "nbconvert_exporter": "python",
   "pygments_lexer": "ipython3",
   "version": "3.5.2"
  }
 },
 "nbformat": 4,
 "nbformat_minor": 2
}
