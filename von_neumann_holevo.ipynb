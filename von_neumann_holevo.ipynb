{
 "cells": [
  {
   "cell_type": "markdown",
   "metadata": {},
   "source": [
    "# Von Neumann Entropy and Holevo Bound\n",
    "\n",
    "Here we would see a detailed calculation of Von Neumann entropy and an upper bound on the accessibility of information in a quantum system. \n",
    "\n",
    "The example is a slightly modified and a somewhat detailed version of an example given in the awesome book \"Quantum Computing for Computer Scientists\". \n",
    "\n",
    "Let $\\psi_1 = \\frac{1}{\\sqrt{2}}(\\rvert0\\rangle + \\rvert1\\rangle)$ and $\\psi_2 = \\rvert1\\rangle$ be two quantum states. Additionally, let us think that Alice wants to send any of these two states with probabilities $p_1 = \\frac{3}{4}$ and $p_2 = \\frac{1}{4}$. So the final density matrix turns out to be:\n",
    "\n",
    "$$\\begin{align}\n",
    "D &= \\sum_i{p_i \\rvert\\psi_i\\rangle\\langle\\psi_i\\rvert} \\\\\n",
    "&=\\frac{3}{4}(\\frac{1}{\\sqrt{2}}(\\rvert0\\rangle + \\rvert1\\rangle) * \\frac{1}{\\sqrt{2}}(\\langle0\\rvert + \\langle1\\rvert)) + \\frac{1}{4}\\rvert1\\rangle\\langle1\\rvert \\\\\n",
    "&= \\frac{3}{4} * \\frac{1}{2}(\\rvert0\\rangle\\langle0\\rvert + \\rvert0\\rangle\\langle1\\rvert + \\rvert1\\rangle\\langle0\\rvert + \\rvert1\\rangle\\langle1\\rvert) + \\frac{1}{4}\\rvert1\\rangle\\langle1\\rvert \\\\\n",
    "&= \\frac{3}{8}\\rvert0\\rangle\\langle0\\rvert + \\frac{3}{8}\\rvert0\\rangle\\langle1\\rvert + \\frac{3}{8}\\rvert1\\rangle\\langle0\\rvert +\\frac{5}{8} \\rvert1\\rangle\\langle1\\rvert \\\\\n",
    "&= \\begin{bmatrix}\\frac{3}{8} & \\frac{3}{8} \\\\ \\frac{3}{8} & \\frac{5}{8}\\end{bmatrix}\n",
    "\\end{align}\n",
    "$$\n",
    "\n",
    "Now, the eigenvalues of this density matrix turns out to be:\n",
    "$$\\lambda_1 = \\frac{1 + \\sqrt{\\frac{5}{8}}}{2} = .8952 \\quad and \\quad \\lambda_2 = \\frac{1 - \\sqrt{\\frac{5}{8}}}{2} = .1047$$\n",
    "\n",
    "The Von Neumann entropy of the initial mixture is then:\n",
    "$$\\begin{align}\n",
    "H_v &= -\\sum_i \\lambda_i * log_2{\\lambda_i} \\\\\n",
    "&= -.8952 * log_2(.8952) - .1047 * log_2(.1047)\\\\\n",
    "&= .4837\n",
    "\\end{align}$$\n",
    "\n",
    "It should be noted that the Von Neumann entropy is the lowest entropy another party can get while measuring a mixed density matrix. For example, if this state was sent by Alice to Bob, then instead of measuring it in the standard basis, Bob could measure it some other basis, obtaining a different density matrix. In which case, the Von Neumann entropy would be different.  \n",
    "\n",
    "Here comes the question of **Holevo Bound**. This bound establishes how much information about a mixed state is accessible by a measurement. The **Holevo Quantity** is defined to be: \n",
    "\n",
    "$$\\chi := S(\\rho) - \\sum_i{p_iS(\\rho_i)}$$\n",
    "\n",
    "Here $S(\\rho)$ is the Von Neuamann entropy. Then the bound is:\n",
    "\n",
    "$$I(X:Y) \\le S(\\rho) - \\sum_i{p_iS(\\rho_i)}$$\n",
    "\n",
    "An intuitive explanation of the Holevo bound is given in Wikipedia https://en.wikipedia.org/wiki/Holevo%27s_theorem. It states that although qubits can carry more information than classical bits, the amount of accessible information can be no more than the number of classical bits. "
   ]
  }
 ],
 "metadata": {
  "kernelspec": {
   "display_name": "Python 3",
   "language": "python",
   "name": "python3"
  },
  "language_info": {
   "codemirror_mode": {
    "name": "ipython",
    "version": 3
   },
   "file_extension": ".py",
   "mimetype": "text/x-python",
   "name": "python",
   "nbconvert_exporter": "python",
   "pygments_lexer": "ipython3",
   "version": "3.5.2"
  }
 },
 "nbformat": 4,
 "nbformat_minor": 2
}
