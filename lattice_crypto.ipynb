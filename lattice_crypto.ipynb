{
 "cells": [
  {
   "cell_type": "markdown",
   "metadata": {},
   "source": [
    "# Lattice Based Cryptography Example"
   ]
  },
  {
   "cell_type": "markdown",
   "metadata": {},
   "source": [
    "In this mechanism of encryption, each message is represented as a point in a lattice. Although there are very hard lattice based problems, the basic idea in this particular case is pretty simple. The steps are:  \n",
    "1. Choose n dimensional basis vectors\n",
    "2. Choose a matrix with determinant +/- 1. \n",
    "3. Transform the basis by applying the previously selected matrix.\n",
    "4. Compute the encrypted message in the new basis and add some error term. \n",
    "5. Decrypt using inverse of the selected and basis matrix.  \n",
    "\n",
    "Below, we give a step by step example of this scheme.  \n",
    "\n",
    "Encrypt the following message:   \n",
    ">**Hi**\n",
    "\n",
    "We can represent the message by two numbers, 8 and 9, which is the position of the characters in the alphabet.\n",
    "Now, we must select two linearly independent vectors which would serve as the basis of our lattice. Let's take $[0, 1]$ and $[1, 1]$. Then the basis matrix would look like: \n",
    "$$\n",
    "B=\n",
    "  \\begin{bmatrix}\n",
    "    0 & 1\\\\\n",
    "    1 & 1\n",
    "  \\end{bmatrix}$$\n",
    "Which also has an inverse: \n",
    "$$\n",
    "B^{-1}=\n",
    "  \\begin{bmatrix}\n",
    "    -1 & 1\\\\\n",
    "    1 & 0\n",
    "  \\end{bmatrix}$$\n",
    "At this point, it would be helpful to visualize the basis vectors:\n"
   ]
  },
  {
   "cell_type": "code",
   "execution_count": 64,
   "metadata": {},
   "outputs": [
    {
     "data": {
      "image/png": "[encoded data removed]",
      "text/plain": [
       "<matplotlib.figure.Figure at 0x7ff56d463a58>"
      ]
     },
     "metadata": {},
     "output_type": "display_data"
    }
   ],
   "source": [
    "import matplotlib.pyplot as plt\n",
    "%matplotlib inline\n",
    "\n",
    "plt.plot([0, 0], [0, 1], '-o')\n",
    "plt.plot([0, 1], [0, 1], '-o')\n",
    "plt.grid()\n",
    "plt.xticks(np.arange(-1 , 3 , 1.0));\n",
    "plt.yticks(np.arange(-1  , 3 , 1.0));"
   ]
  },
  {
   "cell_type": "markdown",
   "metadata": {},
   "source": [
    "Now, using this basis vectors we can create a lattice which looks like the following image. The details have been explained in this link: https://github.com/hasanIqbalAnik/jupyter-notebooks/blob/master/Visualizations.ipynb\n",
    "<img src='lattice.png' width=\"300px\" height=\"300px\">"
   ]
  },
  {
   "cell_type": "markdown",
   "metadata": {},
   "source": [
    "The message we are trying to send would be represented in our lattice as:"
   ]
  },
  {
   "cell_type": "code",
   "execution_count": 65,
   "metadata": {},
   "outputs": [
    {
     "data": {
      "image/png": "[encoded data removed]",
      "text/plain": [
       "<matplotlib.figure.Figure at 0x7ff56d658da0>"
      ]
     },
     "metadata": {},
     "output_type": "display_data"
    }
   ],
   "source": [
    "plt.plot([0, 0], [0, 1], '-o') # basis 1\n",
    "plt.plot([0, 1], [0, 1], '-o') # basis 2\n",
    "plt.plot([0, 8], [0, 9], '-o') # message vector\n",
    "plt.grid()\n",
    "plt.xticks(np.arange(-1 , 12 , 1.0));\n",
    "plt.yticks(np.arange(-1  , 12 , 1.0));"
   ]
  },
  {
   "cell_type": "markdown",
   "metadata": {},
   "source": [
    "\n",
    "At this point, we would choose a matrix $U$ which has a determinant of $\\pm1$. This would transform our basis vectors and consequently the message vector into another basis.  \n",
    "$$\n",
    "U=\n",
    "  \\begin{bmatrix}\n",
    "    3 & 7\\\\\n",
    "    2 & 5\n",
    "  \\end{bmatrix}\n",
    "$$\n",
    "And it's inverse would be: \n",
    "$$\n",
    "U^{-1}=\n",
    "  \\begin{bmatrix}\n",
    "    5 & -7\\\\\n",
    "    -2 & 3\n",
    "  \\end{bmatrix}\n",
    "$$\n",
    "\n",
    "To transform the basis of the lattice, we compute: \n",
    "$$\n",
    "B' = UB = \n",
    "\\begin{bmatrix}\n",
    "    7 & 10\\\\\n",
    "    5 & 7\n",
    "  \\end{bmatrix}\n",
    "$$\n",
    "Now, to encrypt the message, first we have to multiply the message with the new matrix and add an random small error term:\n",
    "$$\n",
    "c = [8, 9] * \\begin{bmatrix} 7 & 10 \\\\ 5 & 7 \\end{bmatrix} + [.1, .1] = [101, 143] + [.1, .1] = [101.1,141.1]\n",
    "$$\n",
    "\n",
    "The error terms should be selected carefully, else the message might be indecipherable. Let's see how our transformed vector and message looks like:\n",
    "\n"
   ]
  },
  {
   "cell_type": "code",
   "execution_count": 67,
   "metadata": {},
   "outputs": [
    {
     "data": {
      "image/png": "[encoded data removed]",
      "text/plain": [
       "<matplotlib.figure.Figure at 0x7ff56d1349b0>"
      ]
     },
     "metadata": {},
     "output_type": "display_data"
    }
   ],
   "source": [
    "plt.plot([0, 7], [0, 5], '-o') # basis 1\n",
    "plt.plot([0, 10], [0, 7], '-o') # basis 2\n",
    "plt.plot([0, 101.1], [0, 141.1], '-o') # encrypted message vector\n",
    "plt.grid()\n"
   ]
  },
  {
   "cell_type": "markdown",
   "metadata": {},
   "source": [
    "\n",
    "Now to decrypt the message, we have to computer: \n",
    "$$\n",
    "p' = c * B^{-1} = [42, 101.1]\n",
    "$$\n",
    "After rounding the decimal terms to the nearest integer, we finally find the plaintext:\n",
    "$$\n",
    "p = p' * U^{-1} = [8, 9]\n",
    "$$\n",
    "Which was our original message.   \n",
    "(REF: https://en.wikipedia.org/wiki/GGH_encryption_scheme)  "
   ]
  }
 ],
 "metadata": {
  "kernelspec": {
   "display_name": "Python 3",
   "language": "python",
   "name": "python3"
  },
  "language_info": {
   "codemirror_mode": {
    "name": "ipython",
    "version": 3
   },
   "file_extension": ".py",
   "mimetype": "text/x-python",
   "name": "python",
   "nbconvert_exporter": "python",
   "pygments_lexer": "ipython3",
   "version": "3.5.2"
  }
 },
 "nbformat": 4,
 "nbformat_minor": 2
}
